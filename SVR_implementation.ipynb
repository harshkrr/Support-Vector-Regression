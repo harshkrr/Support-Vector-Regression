{
  "nbformat": 4,
  "nbformat_minor": 0,
  "metadata": {
    "colab": {
      "name": "SVR_implementation.ipynb",
      "provenance": [],
      "collapsed_sections": [],
      "include_colab_link": true
    },
    "kernelspec": {
      "display_name": "Python 3",
      "language": "python",
      "name": "python3"
    },
    "language_info": {
      "codemirror_mode": {
        "name": "ipython",
        "version": 3
      },
      "file_extension": ".py",
      "mimetype": "text/x-python",
      "name": "python",
      "nbconvert_exporter": "python",
      "pygments_lexer": "ipython3",
      "version": "3.7.4"
    }
  },
  "cells": [
    {
      "cell_type": "markdown",
      "metadata": {
        "id": "view-in-github",
        "colab_type": "text"
      },
      "source": [
        "<a href=\"https://colab.research.google.com/github/harshkrr/Support-Vector-Regression/blob/main/SVR_implementation.ipynb\" target=\"_parent\"><img src=\"https://colab.research.google.com/assets/colab-badge.svg\" alt=\"Open In Colab\"/></a>"
      ]
    },
    {
      "cell_type": "code",
      "metadata": {
        "id": "fapmue1Ivk_v"
      },
      "source": [
        "import pandas as pd\n",
        "import numpy as np\n",
        "from google.colab import files"
      ],
      "execution_count": 1,
      "outputs": []
    },
    {
      "cell_type": "code",
      "metadata": {
        "id": "LYOokawywCtK",
        "outputId": "04d6d565-cf3c-49f9-b24d-b9449cd6d669",
        "colab": {
          "resources": {
            "http://localhost:8080/nbextensions/google.colab/files.js": {
              "data": "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",
              "ok": true,
              "headers": [
                [
                  "content-type",
                  "application/javascript"
                ]
              ],
              "status": 200,
              "status_text": ""
            }
          },
          "base_uri": "https://localhost:8080/",
          "height": 73
        }
      },
      "source": [
        "uploaded = files.upload()"
      ],
      "execution_count": 2,
      "outputs": [
        {
          "output_type": "display_data",
          "data": {
            "text/html": [
              "\n",
              "     <input type=\"file\" id=\"files-24b7a515-6be8-4897-8405-527fccadc4ae\" name=\"files[]\" multiple disabled\n",
              "        style=\"border:none\" />\n",
              "     <output id=\"result-24b7a515-6be8-4897-8405-527fccadc4ae\">\n",
              "      Upload widget is only available when the cell has been executed in the\n",
              "      current browser session. Please rerun this cell to enable.\n",
              "      </output>\n",
              "      <script src=\"/nbextensions/google.colab/files.js\"></script> "
            ],
            "text/plain": [
              "<IPython.core.display.HTML object>"
            ]
          },
          "metadata": {
            "tags": []
          }
        },
        {
          "output_type": "stream",
          "text": [
            "Saving SVM_DATA.csv to SVM_DATA.csv\n"
          ],
          "name": "stdout"
        }
      ]
    },
    {
      "cell_type": "code",
      "metadata": {
        "id": "qlytY-p9wGBY",
        "outputId": "b64ab6c6-b449-4c79-f82b-35064aa51a6c",
        "colab": {
          "base_uri": "https://localhost:8080/"
        }
      },
      "source": [
        "for fn in uploaded.keys():\n",
        "  print('User uploaded file \"{name}\" with length {length} bytes'.format(\n",
        "      name=fn, length=len(uploaded[fn])))"
      ],
      "execution_count": 3,
      "outputs": [
        {
          "output_type": "stream",
          "text": [
            "User uploaded file \"SVM_DATA.csv\" with length 51145 bytes\n"
          ],
          "name": "stdout"
        }
      ]
    },
    {
      "cell_type": "code",
      "metadata": {
        "id": "awUhQ5kBwanW"
      },
      "source": [
        "# uploaded"
      ],
      "execution_count": 4,
      "outputs": []
    },
    {
      "cell_type": "code",
      "metadata": {
        "id": "X_Igm8k2wdxZ"
      },
      "source": [
        "import io"
      ],
      "execution_count": 5,
      "outputs": []
    },
    {
      "cell_type": "code",
      "metadata": {
        "id": "Gy8bCLidw1mm"
      },
      "source": [
        "df= pd.read_csv(io.StringIO(uploaded['SVM_DATA.csv'].decode('utf-8')))"
      ],
      "execution_count": 6,
      "outputs": []
    },
    {
      "cell_type": "code",
      "metadata": {
        "id": "CI6TUeiexrSn"
      },
      "source": [
        "df = np.array(df)"
      ],
      "execution_count": 7,
      "outputs": []
    },
    {
      "cell_type": "code",
      "metadata": {
        "id": "ZghBUULLxw2g"
      },
      "source": [
        "data = []"
      ],
      "execution_count": 8,
      "outputs": []
    },
    {
      "cell_type": "code",
      "metadata": {
        "id": "OpWEZrdPywm1"
      },
      "source": [
        "for i in range(0, len(df), 2):\n",
        "    row = []\n",
        "    temp1 = df[i][0].split()\n",
        "    temp2 = df[i+1][0].split()\n",
        "    for t in temp1:\n",
        "        row.append(float(t))\n",
        "    for t in temp2:\n",
        "        row.append(float(t))\n",
        "        \n",
        "    row = np.array(row)\n",
        "    data.append(row)\n",
        "    "
      ],
      "execution_count": 9,
      "outputs": []
    },
    {
      "cell_type": "code",
      "metadata": {
        "id": "5b88mPfry25t"
      },
      "source": [
        "# data[0]"
      ],
      "execution_count": 10,
      "outputs": []
    },
    {
      "cell_type": "code",
      "metadata": {
        "id": "q146RtCTy5yI"
      },
      "source": [
        "# normalisation of data\n",
        "data = np.array(data)\n",
        "data -= np.mean(data, axis=0)\n",
        "data /= np.std(data, axis=0)"
      ],
      "execution_count": 11,
      "outputs": []
    },
    {
      "cell_type": "code",
      "metadata": {
        "id": "fVxY4hdYzJUn"
      },
      "source": [
        "# data[0]"
      ],
      "execution_count": 12,
      "outputs": []
    },
    {
      "cell_type": "code",
      "metadata": {
        "id": "UUBKjr8wzP1C"
      },
      "source": [
        "# data.shape"
      ],
      "execution_count": 13,
      "outputs": []
    },
    {
      "cell_type": "code",
      "metadata": {
        "id": "fIhnKzwPzK8g"
      },
      "source": [
        "from sklearn.svm import SVR\n",
        "import matplotlib.pyplot as plt\n",
        "\n",
        "from numpy import linalg as LA\n",
        "import math\n",
        "\n",
        "from cvxopt import matrix as cvxopt_matrix\n",
        "from cvxopt import solvers as cvxopt_solvers"
      ],
      "execution_count": 14,
      "outputs": []
    },
    {
      "cell_type": "code",
      "metadata": {
        "id": "dPTCwsip0DIg"
      },
      "source": [
        "# define the Kernal Function for it is RBF\n",
        "def kernal_rbf(x, y, gamma):\n",
        "  k = math.exp((-1)*gamma*(LA.norm(x-y)*(LA.norm(x-y))))\n",
        "  return k"
      ],
      "execution_count": 15,
      "outputs": []
    },
    {
      "cell_type": "code",
      "metadata": {
        "id": "oXGHH2ZQpBiq"
      },
      "source": [
        "def kernal_matrix_rbf(X, gamma):\n",
        "  n = len(X);\n",
        "  k = np.zeros([n, n])\n",
        "  for i in range(len(X)):\n",
        "    for j in range(len(X)):\n",
        "      k[i][j] = kernal_rbf(X[i], X[j], gamma)\n",
        "  return k"
      ],
      "execution_count": 18,
      "outputs": []
    },
    {
      "cell_type": "code",
      "metadata": {
        "id": "DTBJsMr3lpYZ"
      },
      "source": [
        "def b_term_rbf(x, n, lamda_1, lamda_2, x_train, gamma):\n",
        "  total = 0;\n",
        "  for i in range(n):\n",
        "    total = total+(lamda_1[i][0]-lamda_2[i][0])*kernal_rbf(x, x_train[i], gamma)\n",
        "  return total"
      ],
      "execution_count": 19,
      "outputs": []
    },
    {
      "cell_type": "code",
      "metadata": {
        "id": "jpIUiNxKm0R-"
      },
      "source": [
        "# define the polynomial kernal function, d id the degree of freedom pf polynomial and cons is the constant term\n",
        "def kernal_polynomial(x, y, constant, d):\n",
        "  k = pow(np.dot(x, y)+constant, d)\n",
        "  return k"
      ],
      "execution_count": 20,
      "outputs": []
    },
    {
      "cell_type": "code",
      "metadata": {
        "id": "3nKIENb1vyf2"
      },
      "source": [
        "def kernal_matrix_polynomial(X, constant, d):\n",
        "  n = len(X);\n",
        "  k = np.zeros([n, n])\n",
        "  for i in range(len(X)):\n",
        "    for j in range(len(X)):\n",
        "      k[i][j] = kernal_polynomial(X[i], X[j], constant, d)\n",
        "  return k"
      ],
      "execution_count": 21,
      "outputs": []
    },
    {
      "cell_type": "code",
      "metadata": {
        "id": "Yj-tHgPYv3WF"
      },
      "source": [
        "def b_term_polynomial(x, n, lamda_1, lamda_2, x_train, constant, d):\n",
        "  total = 0;\n",
        "  for i in range(n):\n",
        "    total = total+(lamda_1[i][0]-lamda_2[i][0])*kernal_polynomial(x, x_train[i], constant, d)\n",
        "  return total"
      ],
      "execution_count": 22,
      "outputs": []
    },
    {
      "cell_type": "code",
      "metadata": {
        "id": "V7IYcztboUPm"
      },
      "source": [
        "# define a linear kernal function\n",
        "def kernal_linear(x, y, cons):\n",
        "  k = np.dot(x, y)+cons\n",
        "  return k"
      ],
      "execution_count": 23,
      "outputs": []
    },
    {
      "cell_type": "code",
      "metadata": {
        "id": "MfumFsBHoskC"
      },
      "source": [
        "def kernal_matrix_linear(X, cons):\n",
        "  n = len(X);\n",
        "  k = np.zeros([n, n])\n",
        "  for i in range(len(X)):\n",
        "    for j in range(len(X)):\n",
        "      k[i][j] = kernal_linear(X[i], X[j], cons)\n",
        "  return k"
      ],
      "execution_count": 24,
      "outputs": []
    },
    {
      "cell_type": "code",
      "metadata": {
        "id": "gt7NHRzk1zk5"
      },
      "source": [
        "def b_term_linear(x, n, lamda_1, lamda_2, x_train, cons):\n",
        "  total = 0;\n",
        "  for i in range(n):\n",
        "    total = total+(lamda_1[i][0]-lamda_2[i][0])*kernal_linear(x, x_train[i], cons)\n",
        "  return total"
      ],
      "execution_count": 25,
      "outputs": []
    },
    {
      "cell_type": "code",
      "metadata": {
        "id": "eprItmoc4AYC"
      },
      "source": [
        "# calculate P matrix for rbf\n",
        "def P_Matrix_rbf(X, gamma):\n",
        "  k = kernal_matrix_rbf(X,gamma)\n",
        "  neg_k = (-1)*k\n",
        "  temp1 = np.concatenate((k, neg_k))\n",
        "  temp2 = np.concatenate((neg_k, k))\n",
        "  P = np.concatenate((temp1, temp2), axis = 1)\n",
        "  return P"
      ],
      "execution_count": 27,
      "outputs": []
    },
    {
      "cell_type": "code",
      "metadata": {
        "id": "SZvIDG5NqnZh"
      },
      "source": [
        "# calculate P matrix for linear\n",
        "def P_Matrix_linear(X, cons):\n",
        "  k = kernal_matrix_linear(X, cons)\n",
        "  neg_k = (-1)*k\n",
        "  temp1 = np.concatenate((k, neg_k))\n",
        "  temp2 = np.concatenate((neg_k, k))\n",
        "  P = np.concatenate((temp1, temp2), axis = 1)\n",
        "  return P"
      ],
      "execution_count": 28,
      "outputs": []
    },
    {
      "cell_type": "code",
      "metadata": {
        "id": "xJPtLdm6wHSD"
      },
      "source": [
        "# calculate P matrix for polynomial\n",
        "def P_Matrix_polynomial(X, constant, d):\n",
        "  k = kernal_matrix_polynomial(X, constant, d)\n",
        "  neg_k = (-1)*k\n",
        "  temp1 = np.concatenate((k, neg_k))\n",
        "  temp2 = np.concatenate((neg_k, k))\n",
        "  P = np.concatenate((temp1, temp2), axis = 1)\n",
        "  return P"
      ],
      "execution_count": 29,
      "outputs": []
    },
    {
      "cell_type": "code",
      "metadata": {
        "id": "nZTy7Lpe_BNo"
      },
      "source": [
        "# calculate q matrix\n",
        "def q_matrix(y, elp):\n",
        "  temp1 = -y+elp\n",
        "  temp2 = y+elp\n",
        "  q = np.concatenate((temp1, temp2))\n",
        "  return q"
      ],
      "execution_count": 30,
      "outputs": []
    },
    {
      "cell_type": "code",
      "metadata": {
        "id": "tjWiKMqvPjld"
      },
      "source": [
        "# calculate G matrix\n",
        "def G_matrix(n):\n",
        "  temp1 = np.identity(2*n)\n",
        "  temp2 = (-1.0)*temp1\n",
        "  g = np.concatenate((temp1, temp2))\n",
        "  return g"
      ],
      "execution_count": 31,
      "outputs": []
    },
    {
      "cell_type": "code",
      "metadata": {
        "id": "eCguyKikQUTr"
      },
      "source": [
        "# calculate h matrix\n",
        "def h_matrix(C, n):\n",
        "  temp1 = np.ones(2*n)\n",
        "  temp2 = np.zeros(2*n)\n",
        "  h = np.concatenate((temp1, temp2))\n",
        "  return h"
      ],
      "execution_count": 32,
      "outputs": []
    },
    {
      "cell_type": "code",
      "metadata": {
        "id": "2zjhpPTlR2S0"
      },
      "source": [
        "# calculate A matrix\n",
        "def A_matrix(n):\n",
        "  temp1 = np.ones(n)\n",
        "  temp2 = (-1.0)*temp1\n",
        "  temp = np.concatenate((temp1, temp2))\n",
        "  temp = temp.reshape(1,-1)\n",
        "  return temp"
      ],
      "execution_count": 33,
      "outputs": []
    },
    {
      "cell_type": "code",
      "metadata": {
        "id": "RoeO-OrwU1Ow"
      },
      "source": [
        "# calculate b matrix\n",
        "def b_matrix():\n",
        "  b = np.zeros(1)\n",
        "  return b"
      ],
      "execution_count": 34,
      "outputs": []
    },
    {
      "cell_type": "code",
      "metadata": {
        "id": "FFVQIBAhYAqW"
      },
      "source": [
        "# define the hyper parameters\n",
        "C = 100\n",
        "gamma = 0.1\n",
        "elp = 0.1"
      ],
      "execution_count": 35,
      "outputs": []
    },
    {
      "cell_type": "code",
      "metadata": {
        "id": "Dk7-6ruCfWrF"
      },
      "source": [
        "# prediction of y for rbf\n",
        "def Y_predicted_rbf(X, n, lamda_1, lamda_2, X_train, b, gamma):\n",
        "  total = 0\n",
        "  for i in range(n):\n",
        "    total = total+(lamda_1[i][0]-lamda_2[i][0])*kernal_rbf(X, X_train[i], gamma)\n",
        "  y = total+b\n",
        "  return y"
      ],
      "execution_count": 37,
      "outputs": []
    },
    {
      "cell_type": "code",
      "metadata": {
        "id": "-4bfDHDPpkgr"
      },
      "source": [
        "# prediction of y for linear\n",
        "def Y_predicted_linear(X, n, lamda_1, lamda_2, X_train, b, cons):\n",
        "  total = 0\n",
        "  for i in range(n):\n",
        "    total = total+(lamda_1[i][0]-lamda_2[i][0])*kernal_linear(X, X_train[i], cons)\n",
        "  y = total+b\n",
        "  return y"
      ],
      "execution_count": 38,
      "outputs": []
    },
    {
      "cell_type": "code",
      "metadata": {
        "id": "v4VrVxSGwTnl"
      },
      "source": [
        "# prediction of y for polynomial\n",
        "def Y_predicted_polynomial(X, n, lamda_1, lamda_2, X_train, b, constant, d):\n",
        "  total = 0\n",
        "  for i in range(n):\n",
        "    total = total+(lamda_1[i][0]-lamda_2[i][0])*kernal_polynomial(X, X_train[i], constant, d)\n",
        "  y = total+b\n",
        "  return y"
      ],
      "execution_count": 39,
      "outputs": []
    },
    {
      "cell_type": "code",
      "metadata": {
        "id": "m27cTCAIiP_M"
      },
      "source": [
        "# calculation of Math square Error\n",
        "def MSE(Y_predict, Y_test, elp):\n",
        "  total = 0\n",
        "  for i in range(len(Y_test)):\n",
        "    total = total + (abs(Y_predict[i]-Y_test[i])-elp)*(abs(Y_predict[i]-Y_test[i])-elp)\n",
        "  error = total/(len(Y_test))\n",
        "  return error"
      ],
      "execution_count": 40,
      "outputs": []
    },
    {
      "cell_type": "code",
      "metadata": {
        "id": "N6cCb76wkJX4"
      },
      "source": [
        "# array that will store error in each fold\n",
        "score_rbf = [];"
      ],
      "execution_count": 41,
      "outputs": []
    },
    {
      "cell_type": "code",
      "metadata": {
        "id": "qARA3XQdYWj6",
        "outputId": "80437adb-69ca-4896-9d02-368f950bfad2",
        "colab": {
          "base_uri": "https://localhost:8080/",
          "height": 1000
        }
      },
      "source": [
        "k_fold_size = 101 # 5-cross validation\n",
        "no_of_fold = int(len(data)/k_fold_size)\n",
        "for i in range(no_of_fold):\n",
        "  X_test = np.array([data[j][:-1] for j in range(i*k_fold_size,(i+1)*k_fold_size)])\n",
        "  Y_test = np.array([data[j][-1] for j in range(i*k_fold_size,(i+1)*k_fold_size)])\n",
        "\n",
        "  X_train = []\n",
        "  Y_train = []\n",
        "  for j in range(len(data)):\n",
        "      if (j<i*k_fold_size) or (j>=(i+1)*k_fold_size):\n",
        "          X_train.append(data[j][:-1])\n",
        "          Y_train.append(data[j][-1])\n",
        "  X_train = np.array(X_train)\n",
        "  Y_train = np.array(Y_train)\n",
        "\n",
        "  n = len(X_train)\n",
        "  P = P_Matrix_rbf(X_train, gamma)\n",
        "  q = q_matrix(Y_train, elp)\n",
        "  G = G_matrix(n)\n",
        "  h = h_matrix(C, n)\n",
        "  A = A_matrix(n)\n",
        "  b = b_matrix()\n",
        "\n",
        "  # print(\"n\"+str(n))\n",
        "  # print(\"P\"+str(P.shape))\n",
        "  # print(\"q\"+str(q.shape))\n",
        "  # print(\"G\"+str(G.shape))\n",
        "  # print(\"h\"+str(h.shape))\n",
        "  # print(\"A\"+str(A.shape))\n",
        "  # print(\"b\"+str(b.shape))\n",
        "\n",
        "  P = cvxopt_matrix(P)\n",
        "  q = cvxopt_matrix(q)\n",
        "  G = cvxopt_matrix(G)\n",
        "  h = cvxopt_matrix(h)\n",
        "  A = cvxopt_matrix(A)\n",
        "  b = cvxopt_matrix(b)\n",
        "\n",
        "  sol = cvxopt_solvers.qp(P, q, G, h, A, b)\n",
        "  lamda = np.array(sol['x'])\n",
        "  l = int(len(lamda)/2)\n",
        "  lamda_1 = lamda[0:l, :]\n",
        "  lamda_2 = lamda[l:,:]\n",
        "  # print(lamda_1[1][0])\n",
        "  # print(lamda_1.shape)\n",
        "  # print(lamda_2.shape)\n",
        "\n",
        "  # the supp_vector array will contain all indics of vectors which are support vectors\n",
        "  supp_vector = []\n",
        "  for j in range(len(lamda_1)):\n",
        "    temp = lamda_1[j][0]\n",
        "    if temp>0 and temp<C:\n",
        "      supp_vector.append(j)\n",
        "\n",
        "  # calculation of b\n",
        "  b = 0\n",
        "  for i in supp_vector:\n",
        "    b = b+Y_train[i]-elp-b_term_rbf(X_train[i], n, lamda_1, lamda_2, X_train, gamma)\n",
        "  b = b/(len(supp_vector))\n",
        "\n",
        "  Y_predict_rbf = []\n",
        "  for i in range(len(X_test)):\n",
        "    temp_i = Y_predicted_rbf(X_test[i], n, lamda_1, lamda_2, X_train, b, gamma)\n",
        "    Y_predict_rbf.append(temp_i)\n",
        "  Y_predict_rbf = np.array(Y_predict_rbf)\n",
        "  # print(Y_predict[0])\n",
        "  # print(Y_test)\n",
        "  \n",
        "  error = MSE(Y_predict_rbf, Y_test, elp)\n",
        "  score_rbf.append(error)\n",
        "\n",
        "  plt.title('Kernal RBF')\n",
        "  plt.xlabel('CRIM')\n",
        "  plt.ylabel('MEDV')\n",
        "  plt.scatter(X_test[:,0], Y_test, color = 'r', label=\"Y_test\".format('r'))\n",
        "  plt.scatter(X_test[:,0], Y_predict_rbf, color = 'b',label=\"Y_predicted\".format('y'))\n",
        "  plt.show()\n",
        "\n",
        "score_final_rbf = 0;\n",
        "for i in range(len(score_rbf)):\n",
        "  score_final_rbf = score_final_rbf + score_rbf[i]\n",
        "score_final_rbf = score_final_rbf/len(score_rbf)\n",
        "print(score_final_rbf)"
      ],
      "execution_count": 50,
      "outputs": [
        {
          "output_type": "stream",
          "text": [
            "     pcost       dcost       gap    pres   dres\n",
            " 0: -3.1323e+01 -1.8066e+03  8e+03  2e+00  1e-14\n",
            " 1: -6.2912e+00 -1.1012e+03  1e+03  2e-13  2e-14\n",
            " 2: -2.4806e+01 -1.5552e+02  1e+02  2e-13  2e-14\n",
            " 3: -5.6235e+01 -8.6301e+01  3e+01  1e-13  1e-14\n",
            " 4: -6.7796e+01 -7.4964e+01  7e+00  7e-14  1e-14\n",
            " 5: -7.0263e+01 -7.1880e+01  2e+00  9e-14  1e-14\n",
            " 6: -7.0900e+01 -7.1106e+01  2e-01  6e-14  1e-14\n",
            " 7: -7.0982e+01 -7.1004e+01  2e-02  1e-14  1e-14\n",
            " 8: -7.0991e+01 -7.0992e+01  8e-04  9e-14  1e-14\n",
            " 9: -7.0992e+01 -7.0992e+01  2e-05  5e-14  1e-14\n",
            "Optimal solution found.\n"
          ],
          "name": "stdout"
        },
        {
          "output_type": "display_data",
          "data": {
            "image/png": "[encoded data removed]",
            "text/plain": [
              "<Figure size 432x288 with 1 Axes>"
            ]
          },
          "metadata": {
            "tags": [],
            "needs_background": "light"
          }
        },
        {
          "output_type": "stream",
          "text": [
            "     pcost       dcost       gap    pres   dres\n",
            " 0: -2.4548e+01 -1.8043e+03  8e+03  2e+00  2e-14\n",
            " 1: -9.2433e-01 -1.0986e+03  1e+03  6e-14  2e-14\n",
            " 2: -1.8125e+01 -1.4270e+02  1e+02  6e-14  2e-14\n",
            " 3: -4.9311e+01 -7.7967e+01  3e+01  4e-14  2e-14\n",
            " 4: -6.0151e+01 -6.7225e+01  7e+00  7e-14  1e-14\n",
            " 5: -6.2960e+01 -6.4130e+01  1e+00  2e-14  1e-14\n",
            " 6: -6.3433e+01 -6.3619e+01  2e-01  6e-14  1e-14\n",
            " 7: -6.3516e+01 -6.3528e+01  1e-02  7e-14  1e-14\n",
            " 8: -6.3522e+01 -6.3522e+01  4e-04  2e-16  1e-14\n",
            " 9: -6.3522e+01 -6.3522e+01  9e-06  1e-13  1e-14\n",
            "Optimal solution found.\n"
          ],
          "name": "stdout"
        },
        {
          "output_type": "display_data",
          "data": {
            "image/png": "[encoded data removed]",
            "text/plain": [
              "<Figure size 432x288 with 1 Axes>"
            ]
          },
          "metadata": {
            "tags": [],
            "needs_background": "light"
          }
        },
        {
          "output_type": "stream",
          "text": [
            "     pcost       dcost       gap    pres   dres\n",
            " 0: -2.6646e+01 -1.7966e+03  8e+03  2e+00  2e-14\n",
            " 1: -1.2419e+00 -1.0918e+03  1e+03  2e-13  3e-14\n",
            " 2: -1.9441e+01 -1.4386e+02  1e+02  1e-14  2e-14\n",
            " 3: -5.0883e+01 -7.9522e+01  3e+01  5e-15  2e-14\n",
            " 4: -6.1804e+01 -6.8789e+01  7e+00  2e-14  2e-14\n",
            " 5: -6.4447e+01 -6.5970e+01  2e+00  1e-14  1e-14\n",
            " 6: -6.5025e+01 -6.5334e+01  3e-01  1e-14  1e-14\n",
            " 7: -6.5146e+01 -6.5197e+01  5e-02  9e-14  1e-14\n",
            " 8: -6.5168e+01 -6.5173e+01  4e-03  8e-15  1e-14\n",
            " 9: -6.5170e+01 -6.5170e+01  2e-04  2e-14  1e-14\n",
            "10: -6.5170e+01 -6.5170e+01  4e-06  4e-14  1e-14\n",
            "Optimal solution found.\n"
          ],
          "name": "stdout"
        },
        {
          "output_type": "display_data",
          "data": {
            "image/png": "[encoded data removed]",
            "text/plain": [
              "<Figure size 432x288 with 1 Axes>"
            ]
          },
          "metadata": {
            "tags": [],
            "needs_background": "light"
          }
        },
        {
          "output_type": "stream",
          "text": [
            "     pcost       dcost       gap    pres   dres\n",
            " 0: -1.2221e+01 -1.2719e+03  4e+03  2e+00  1e-14\n",
            " 1: -1.8402e+00 -6.1261e+02  6e+02  1e-13  2e-14\n",
            " 2: -2.2770e+01 -1.0309e+02  8e+01  6e-14  2e-14\n",
            " 3: -4.8901e+01 -6.7475e+01  2e+01  8e-14  1e-14\n",
            " 4: -5.5754e+01 -6.0159e+01  4e+00  7e-14  1e-14\n",
            " 5: -5.7409e+01 -5.8392e+01  1e+00  2e-14  1e-14\n",
            " 6: -5.7789e+01 -5.7956e+01  2e-01  3e-14  1e-14\n",
            " 7: -5.7860e+01 -5.7874e+01  1e-02  4e-14  1e-14\n",
            " 8: -5.7867e+01 -5.7867e+01  3e-04  7e-14  1e-14\n",
            " 9: -5.7867e+01 -5.7867e+01  7e-06  4e-14  1e-14\n",
            "Optimal solution found.\n"
          ],
          "name": "stdout"
        },
        {
          "output_type": "display_data",
          "data": {
            "image/png": "[encoded data removed]",
            "text/plain": [
              "<Figure size 432x288 with 1 Axes>"
            ]
          },
          "metadata": {
            "tags": [],
            "needs_background": "light"
          }
        },
        {
          "output_type": "stream",
          "text": [
            "     pcost       dcost       gap    pres   dres\n",
            " 0: -2.6203e+01 -1.7530e+03  8e+03  2e+00  2e-14\n",
            " 1: -2.9406e+00 -1.0530e+03  1e+03  7e-14  2e-14\n",
            " 2: -2.1084e+01 -1.5810e+02  1e+02  9e-14  2e-14\n",
            " 3: -5.1241e+01 -8.2328e+01  3e+01  2e-14  2e-14\n",
            " 4: -6.3098e+01 -7.0283e+01  7e+00  5e-14  1e-14\n",
            " 5: -6.5639e+01 -6.7373e+01  2e+00  4e-14  1e-14\n",
            " 6: -6.6320e+01 -6.6562e+01  2e-01  8e-14  1e-14\n",
            " 7: -6.6420e+01 -6.6444e+01  2e-02  5e-15  1e-14\n",
            " 8: -6.6431e+01 -6.6432e+01  1e-03  7e-14  1e-14\n",
            " 9: -6.6431e+01 -6.6431e+01  3e-05  4e-14  1e-14\n",
            "Optimal solution found.\n"
          ],
          "name": "stdout"
        },
        {
          "output_type": "display_data",
          "data": {
            "image/png": "[encoded data removed]",
            "text/plain": [
              "<Figure size 432x288 with 1 Axes>"
            ]
          },
          "metadata": {
            "tags": [],
            "needs_background": "light"
          }
        },
        {
          "output_type": "stream",
          "text": [
            "0.2984511210560963\n"
          ],
          "name": "stdout"
        }
      ]
    },
    {
      "cell_type": "code",
      "metadata": {
        "id": "4eHCK8Sgh85i"
      },
      "source": [
        "score_linear = []\n",
        "cons = 1"
      ],
      "execution_count": 43,
      "outputs": []
    },
    {
      "cell_type": "code",
      "metadata": {
        "id": "w1-ztdkuqFTR",
        "outputId": "90539945-9e5b-4699-b32b-b986290dbbb7",
        "colab": {
          "base_uri": "https://localhost:8080/",
          "height": 1000
        }
      },
      "source": [
        "k_fold_size = 101 # 5-cross validation\n",
        "no_of_fold = int(len(data)/k_fold_size)\n",
        "for i in range(no_of_fold):\n",
        "  X_test = np.array([data[j][:-1] for j in range(i*k_fold_size,(i+1)*k_fold_size)])\n",
        "  Y_test = np.array([data[j][-1] for j in range(i*k_fold_size,(i+1)*k_fold_size)])\n",
        "\n",
        "  X_train = []\n",
        "  Y_train = []\n",
        "  for j in range(len(data)):\n",
        "      if (j<i*k_fold_size) or (j>=(i+1)*k_fold_size):\n",
        "          X_train.append(data[j][:-1])\n",
        "          Y_train.append(data[j][-1])\n",
        "  X_train = np.array(X_train)\n",
        "  Y_train = np.array(Y_train)\n",
        "\n",
        "  n = len(X_train)\n",
        "  P = P_Matrix_linear(X_train, cons)\n",
        "  q = q_matrix(Y_train, elp)\n",
        "  G = G_matrix(n)\n",
        "  h = h_matrix(C, n)\n",
        "  A = A_matrix(n)\n",
        "  b = b_matrix()\n",
        "\n",
        "  # print(\"n\"+str(n))\n",
        "  # print(\"P\"+str(P.shape))\n",
        "  # print(\"q\"+str(q.shape))\n",
        "  # print(\"G\"+str(G.shape))\n",
        "  # print(\"h\"+str(h.shape))\n",
        "  # print(\"A\"+str(A.shape))\n",
        "  # print(\"b\"+str(b.shape))\n",
        "\n",
        "  P = cvxopt_matrix(P)\n",
        "  q = cvxopt_matrix(q)\n",
        "  G = cvxopt_matrix(G)\n",
        "  h = cvxopt_matrix(h)\n",
        "  A = cvxopt_matrix(A)\n",
        "  b = cvxopt_matrix(b)\n",
        "\n",
        "  sol = cvxopt_solvers.qp(P, q, G, h, A, b)\n",
        "  lamda = np.array(sol['x'])\n",
        "  l = int(len(lamda)/2)\n",
        "  lamda_1 = lamda[0:l, :]\n",
        "  lamda_2 = lamda[l:,:]\n",
        "  # print(lamda_1[1][0])\n",
        "  # print(lamda_1.shape)\n",
        "  # print(lamda_2.shape)\n",
        "\n",
        "  # the supp_vector array will contain all indics of vectors which are support vectors\n",
        "  supp_vector = []\n",
        "  for j in range(len(lamda_1)):\n",
        "    temp = lamda_1[j][0]\n",
        "    if temp>0 and temp<C:\n",
        "      supp_vector.append(j)\n",
        "\n",
        "  # calculation of b\n",
        "  b = 0\n",
        "  for i in supp_vector:\n",
        "    b = b+Y_train[i]-elp-b_term_linear(X_train[i], n, lamda_1, lamda_2, X_train, cons)\n",
        "  b = b/(len(supp_vector))\n",
        "\n",
        "  Y_predict_linear = []\n",
        "  for i in range(len(X_test)):\n",
        "    temp_i = Y_predicted_linear(X_test[i], n, lamda_1, lamda_2, X_train, b, cons)\n",
        "    Y_predict_linear.append(temp_i)\n",
        "  Y_predict_linear = np.array(Y_predict_linear)\n",
        "  # print(Y_predict[0])\n",
        "  # print(Y_test)\n",
        "  \n",
        "  error = MSE(Y_predict_linear, Y_test, elp)\n",
        "  score_linear.append(error)\n",
        "\n",
        "  plt.title('Kernal Linear')\n",
        "  plt.xlabel('CRIM')\n",
        "  plt.ylabel('MEDV')\n",
        "  plt.scatter(X_test[:,0], Y_test, color = 'g', label=\"Y_test\".format('r'))\n",
        "  plt.scatter(X_test[:,0], Y_predict_linear, color = 'y',label=\"Y_predicted\".format('y'))\n",
        "  plt.show()\n",
        "\n",
        "score_final_linear = 0;\n",
        "for i in range(len(score_linear)):\n",
        "  score_final_linear = score_final_linear + score_linear[i]\n",
        "score_final_linear = score_final_linear/len(score_linear)\n",
        "print(score_final_linear)"
      ],
      "execution_count": 49,
      "outputs": [
        {
          "output_type": "stream",
          "text": [
            "     pcost       dcost       gap    pres   dres\n",
            " 0: -8.1612e+01 -1.8924e+03  9e+03  3e+00  4e-13\n",
            " 1: -1.0110e+01 -1.1939e+03  1e+03  7e-15  5e-13\n",
            " 2: -4.5897e+01 -1.9427e+02  1e+02  5e-14  5e-13\n",
            " 3: -9.1974e+01 -1.3353e+02  4e+01  4e-14  5e-13\n",
            " 4: -1.0579e+02 -1.1933e+02  1e+01  3e-14  4e-13\n",
            " 5: -1.1028e+02 -1.1479e+02  5e+00  2e-14  4e-13\n",
            " 6: -1.1176e+02 -1.1326e+02  1e+00  1e-14  4e-13\n",
            " 7: -1.1228e+02 -1.1274e+02  5e-01  2e-13  4e-13\n",
            " 8: -1.1245e+02 -1.1257e+02  1e-01  7e-14  4e-13\n",
            " 9: -1.1250e+02 -1.1252e+02  3e-02  8e-14  4e-13\n",
            "10: -1.1251e+02 -1.1251e+02  2e-03  1e-14  4e-13\n",
            "11: -1.1251e+02 -1.1251e+02  3e-05  1e-13  5e-13\n",
            "Optimal solution found.\n"
          ],
          "name": "stdout"
        },
        {
          "output_type": "display_data",
          "data": {
            "image/png": "[encoded data removed]",
            "text/plain": [
              "<Figure size 432x288 with 1 Axes>"
            ]
          },
          "metadata": {
            "tags": [],
            "needs_background": "light"
          }
        },
        {
          "output_type": "stream",
          "text": [
            "     pcost       dcost       gap    pres   dres\n",
            " 0: -7.0953e+01 -1.9003e+03  9e+03  3e+00  5e-13\n",
            " 1: -5.4658e+00 -1.1998e+03  1e+03  3e-14  7e-13\n",
            " 2: -3.8091e+01 -1.9042e+02  2e+02  2e-13  7e-13\n",
            " 3: -7.8798e+01 -1.3100e+02  5e+01  1e-13  6e-13\n",
            " 4: -9.6208e+01 -1.0945e+02  1e+01  5e-14  5e-13\n",
            " 5: -1.0061e+02 -1.0506e+02  4e+00  3e-15  5e-13\n",
            " 6: -1.0204e+02 -1.0355e+02  2e+00  1e-13  5e-13\n",
            " 7: -1.0255e+02 -1.0301e+02  5e-01  7e-14  5e-13\n",
            " 8: -1.0268e+02 -1.0287e+02  2e-01  2e-14  6e-13\n",
            " 9: -1.0275e+02 -1.0279e+02  4e-02  5e-14  6e-13\n",
            "10: -1.0277e+02 -1.0278e+02  8e-03  4e-14  6e-13\n",
            "11: -1.0277e+02 -1.0277e+02  4e-04  1e-13  6e-13\n",
            "12: -1.0277e+02 -1.0277e+02  4e-06  5e-14  6e-13\n",
            "Optimal solution found.\n"
          ],
          "name": "stdout"
        },
        {
          "output_type": "display_data",
          "data": {
            "image/png": "[encoded data removed]",
            "text/plain": [
              "<Figure size 432x288 with 1 Axes>"
            ]
          },
          "metadata": {
            "tags": [],
            "needs_background": "light"
          }
        },
        {
          "output_type": "stream",
          "text": [
            "     pcost       dcost       gap    pres   dres\n",
            " 0: -6.5043e+01 -1.9050e+03  9e+03  3e+00  4e-13\n",
            " 1: -3.1221e+00 -1.2034e+03  1e+03  6e-14  6e-13\n",
            " 2: -3.4342e+01 -1.7959e+02  1e+02  2e-13  6e-13\n",
            " 3: -7.2076e+01 -1.2462e+02  5e+01  7e-14  5e-13\n",
            " 4: -8.7302e+01 -1.0496e+02  2e+01  1e-15  4e-13\n",
            " 5: -9.1937e+01 -9.9696e+01  8e+00  1e-13  4e-13\n",
            " 6: -9.4310e+01 -9.6981e+01  3e+00  9e-14  5e-13\n",
            " 7: -9.5065e+01 -9.6131e+01  1e+00  3e-14  4e-13\n",
            " 8: -9.5416e+01 -9.5736e+01  3e-01  7e-14  5e-13\n",
            " 9: -9.5503e+01 -9.5640e+01  1e-01  2e-14  4e-13\n",
            "10: -9.5536e+01 -9.5604e+01  7e-02  1e-13  4e-13\n",
            "11: -9.5560e+01 -9.5578e+01  2e-02  1e-13  5e-13\n",
            "12: -9.5567e+01 -9.5570e+01  2e-03  7e-14  5e-13\n",
            "13: -9.5568e+01 -9.5568e+01  4e-05  7e-14  6e-13\n",
            "Optimal solution found.\n"
          ],
          "name": "stdout"
        },
        {
          "output_type": "display_data",
          "data": {
            "image/png": "[encoded data removed]",
            "text/plain": [
              "<Figure size 432x288 with 1 Axes>"
            ]
          },
          "metadata": {
            "tags": [],
            "needs_background": "light"
          }
        },
        {
          "output_type": "stream",
          "text": [
            "     pcost       dcost       gap    pres   dres\n",
            " 0: -2.5919e+01 -1.5905e+03  6e+03  2e+00  2e-13\n",
            " 1:  5.8300e+00 -9.0571e+02  9e+02  1e-15  3e-13\n",
            " 2: -2.5789e+01 -1.3851e+02  1e+02  8e-14  3e-13\n",
            " 3: -6.4085e+01 -9.8065e+01  3e+01  5e-14  3e-13\n",
            " 4: -7.5292e+01 -8.8688e+01  1e+01  1e-13  3e-13\n",
            " 5: -8.0353e+01 -8.4085e+01  4e+00  4e-14  2e-13\n",
            " 6: -8.1604e+01 -8.3012e+01  1e+00  6e-14  2e-13\n",
            " 7: -8.2051e+01 -8.2591e+01  5e-01  8e-14  2e-13\n",
            " 8: -8.2256e+01 -8.2396e+01  1e-01  2e-14  2e-13\n",
            " 9: -8.2302e+01 -8.2349e+01  5e-02  4e-14  2e-13\n",
            "10: -8.2315e+01 -8.2337e+01  2e-02  1e-14  2e-13\n",
            "11: -8.2321e+01 -8.2331e+01  1e-02  1e-13  2e-13\n",
            "12: -8.2326e+01 -8.2326e+01  4e-04  1e-13  2e-13\n",
            "13: -8.2326e+01 -8.2326e+01  4e-06  6e-14  3e-13\n",
            "Optimal solution found.\n"
          ],
          "name": "stdout"
        },
        {
          "output_type": "display_data",
          "data": {
            "image/png": "[encoded data removed]",
            "text/plain": [
              "<Figure size 432x288 with 1 Axes>"
            ]
          },
          "metadata": {
            "tags": [],
            "needs_background": "light"
          }
        },
        {
          "output_type": "stream",
          "text": [
            "     pcost       dcost       gap    pres   dres\n",
            " 0: -7.4137e+01 -1.9365e+03  1e+04  3e+00  2e-13\n",
            " 1: -5.7646e+00 -1.2341e+03  1e+03  8e-14  2e-13\n",
            " 2: -3.6153e+01 -2.2036e+02  2e+02  1e-13  2e-13\n",
            " 3: -7.8925e+01 -1.2368e+02  4e+01  3e-13  2e-13\n",
            " 4: -9.4635e+01 -1.0554e+02  1e+01  4e-14  2e-13\n",
            " 5: -9.7511e+01 -1.0244e+02  5e+00  1e-13  2e-13\n",
            " 6: -9.9142e+01 -1.0065e+02  2e+00  3e-14  2e-13\n",
            " 7: -9.9676e+01 -1.0008e+02  4e-01  2e-14  2e-13\n",
            " 8: -9.9807e+01 -9.9934e+01  1e-01  2e-14  2e-13\n",
            " 9: -9.9856e+01 -9.9882e+01  3e-02  3e-14  2e-13\n",
            "10: -9.9868e+01 -9.9869e+01  9e-04  4e-14  2e-13\n",
            "11: -9.9869e+01 -9.9869e+01  1e-05  2e-13  2e-13\n",
            "Optimal solution found.\n"
          ],
          "name": "stdout"
        },
        {
          "output_type": "display_data",
          "data": {
            "image/png": "[encoded data removed]",
            "text/plain": [
              "<Figure size 432x288 with 1 Axes>"
            ]
          },
          "metadata": {
            "tags": [],
            "needs_background": "light"
          }
        },
        {
          "output_type": "stream",
          "text": [
            "0.33464579604668093\n"
          ],
          "name": "stdout"
        }
      ]
    },
    {
      "cell_type": "code",
      "metadata": {
        "id": "0eGqjFuYtwVk"
      },
      "source": [
        "score_polynomial = []\n",
        "constant = 1\n",
        "d = 1"
      ],
      "execution_count": 45,
      "outputs": []
    },
    {
      "cell_type": "code",
      "metadata": {
        "id": "J5fv_8zpwg38",
        "outputId": "67224129-5c67-4384-bf65-f1652e5fca2a",
        "colab": {
          "base_uri": "https://localhost:8080/",
          "height": 1000
        }
      },
      "source": [
        "k_fold_size = 101 # 5-cross validation\n",
        "no_of_fold = int(len(data)/k_fold_size)\n",
        "for i in range(no_of_fold):\n",
        "  X_test = np.array([data[j][:-1] for j in range(i*k_fold_size,(i+1)*k_fold_size)])\n",
        "  Y_test = np.array([data[j][-1] for j in range(i*k_fold_size,(i+1)*k_fold_size)])\n",
        "\n",
        "  X_train = []\n",
        "  Y_train = []\n",
        "  for j in range(len(data)):\n",
        "      if (j<i*k_fold_size) or (j>=(i+1)*k_fold_size):\n",
        "          X_train.append(data[j][:-1])\n",
        "          Y_train.append(data[j][-1])\n",
        "  X_train = np.array(X_train)\n",
        "  Y_train = np.array(Y_train)\n",
        "\n",
        "  n = len(X_train)\n",
        "  P = P_Matrix_polynomial(X_train, constant, d)\n",
        "  q = q_matrix(Y_train, elp)\n",
        "  G = G_matrix(n)\n",
        "  h = h_matrix(C, n)\n",
        "  A = A_matrix(n)\n",
        "  b = b_matrix()\n",
        "\n",
        "  # print(\"n\"+str(n))\n",
        "  # print(\"P\"+str(P.shape))\n",
        "  # print(\"q\"+str(q.shape))\n",
        "  # print(\"G\"+str(G.shape))\n",
        "  # print(\"h\"+str(h.shape))\n",
        "  # print(\"A\"+str(A.shape))\n",
        "  # print(\"b\"+str(b.shape))\n",
        "\n",
        "  P = cvxopt_matrix(P)\n",
        "  q = cvxopt_matrix(q)\n",
        "  G = cvxopt_matrix(G)\n",
        "  h = cvxopt_matrix(h)\n",
        "  A = cvxopt_matrix(A)\n",
        "  b = cvxopt_matrix(b)\n",
        "\n",
        "  sol = cvxopt_solvers.qp(P, q, G, h, A, b)\n",
        "  lamda = np.array(sol['x'])\n",
        "  l = int(len(lamda)/2)\n",
        "  lamda_1 = lamda[0:l, :]\n",
        "  lamda_2 = lamda[l:,:]\n",
        "  # print(lamda_1[1][0])\n",
        "  # print(lamda_1.shape)\n",
        "  # print(lamda_2.shape)\n",
        "\n",
        "  # the supp_vector array will contain all indics of vectors which are support vectors\n",
        "  supp_vector = []\n",
        "  for j in range(len(lamda_1)):\n",
        "    temp = lamda_1[j][0]\n",
        "    if temp>0 and temp<C:\n",
        "      supp_vector.append(j)\n",
        "\n",
        "  # calculation of b\n",
        "  b = 0\n",
        "  for i in supp_vector:\n",
        "    b = b+Y_train[i]-elp-b_term_polynomial(X_train[i], n, lamda_1, lamda_2, X_train, constant, d)\n",
        "  b = b/(len(supp_vector))\n",
        "\n",
        "  Y_predict_polynomial = []\n",
        "  for i in range(len(X_test)):\n",
        "    temp_i = Y_predicted_polynomial(X_test[i], n, lamda_1, lamda_2, X_train, b, constant, d)\n",
        "    Y_predict_polynomial.append(temp_i)\n",
        "  Y_predict_polynomial = np.array(Y_predict_polynomial)\n",
        "  # print(Y_predict[0])\n",
        "  # print(Y_test)\n",
        "  \n",
        "  error = MSE(Y_predict_polynomial, Y_test, elp)\n",
        "  score_polynomial.append(error)\n",
        "\n",
        "  plt.title('Kernal Polynomial')\n",
        "  plt.xlabel('CRIM')\n",
        "  plt.ylabel('MEDV')\n",
        "  plt.scatter(X_test[:,0], Y_test, color = 'r', label=\"Y_test\".format('r'))\n",
        "  plt.scatter(X_test[:,0], Y_predict_polynomial, color = 'b',label=\"Y_predicted\".format('y'))\n",
        "  plt.show()\n",
        "\n",
        "score_final_polynomial = 0\n",
        "for i in range(len(score_polynomial)):\n",
        "  score_final_polynomial = score_final_polynomial + score_polynomial[i]\n",
        "score_final_polynomial = score_final_polynomial/len(score_polynomial)\n",
        "print(score_final_polynomial)"
      ],
      "execution_count": 47,
      "outputs": [
        {
          "output_type": "stream",
          "text": [
            "     pcost       dcost       gap    pres   dres\n",
            " 0: -8.1612e+01 -1.8924e+03  9e+03  3e+00  4e-13\n",
            " 1: -1.0110e+01 -1.1939e+03  1e+03  7e-15  5e-13\n",
            " 2: -4.5897e+01 -1.9427e+02  1e+02  5e-14  5e-13\n",
            " 3: -9.1974e+01 -1.3353e+02  4e+01  4e-14  5e-13\n",
            " 4: -1.0579e+02 -1.1933e+02  1e+01  3e-14  4e-13\n",
            " 5: -1.1028e+02 -1.1479e+02  5e+00  2e-14  4e-13\n",
            " 6: -1.1176e+02 -1.1326e+02  1e+00  1e-14  4e-13\n",
            " 7: -1.1228e+02 -1.1274e+02  5e-01  2e-13  4e-13\n",
            " 8: -1.1245e+02 -1.1257e+02  1e-01  7e-14  4e-13\n",
            " 9: -1.1250e+02 -1.1252e+02  3e-02  8e-14  4e-13\n",
            "10: -1.1251e+02 -1.1251e+02  2e-03  1e-14  4e-13\n",
            "11: -1.1251e+02 -1.1251e+02  3e-05  1e-13  5e-13\n",
            "Optimal solution found.\n"
          ],
          "name": "stdout"
        },
        {
          "output_type": "display_data",
          "data": {
            "image/png": "[encoded data removed]",
            "text/plain": [
              "<Figure size 432x288 with 1 Axes>"
            ]
          },
          "metadata": {
            "tags": [],
            "needs_background": "light"
          }
        },
        {
          "output_type": "stream",
          "text": [
            "     pcost       dcost       gap    pres   dres\n",
            " 0: -7.0953e+01 -1.9003e+03  9e+03  3e+00  5e-13\n",
            " 1: -5.4658e+00 -1.1998e+03  1e+03  3e-14  7e-13\n",
            " 2: -3.8091e+01 -1.9042e+02  2e+02  2e-13  7e-13\n",
            " 3: -7.8798e+01 -1.3100e+02  5e+01  1e-13  6e-13\n",
            " 4: -9.6208e+01 -1.0945e+02  1e+01  5e-14  5e-13\n",
            " 5: -1.0061e+02 -1.0506e+02  4e+00  3e-15  5e-13\n",
            " 6: -1.0204e+02 -1.0355e+02  2e+00  1e-13  5e-13\n",
            " 7: -1.0255e+02 -1.0301e+02  5e-01  7e-14  5e-13\n",
            " 8: -1.0268e+02 -1.0287e+02  2e-01  2e-14  6e-13\n",
            " 9: -1.0275e+02 -1.0279e+02  4e-02  5e-14  6e-13\n",
            "10: -1.0277e+02 -1.0278e+02  8e-03  4e-14  6e-13\n",
            "11: -1.0277e+02 -1.0277e+02  4e-04  1e-13  6e-13\n",
            "12: -1.0277e+02 -1.0277e+02  4e-06  5e-14  6e-13\n",
            "Optimal solution found.\n"
          ],
          "name": "stdout"
        },
        {
          "output_type": "display_data",
          "data": {
            "image/png": "[encoded data removed]",
            "text/plain": [
              "<Figure size 432x288 with 1 Axes>"
            ]
          },
          "metadata": {
            "tags": [],
            "needs_background": "light"
          }
        },
        {
          "output_type": "stream",
          "text": [
            "     pcost       dcost       gap    pres   dres\n",
            " 0: -6.5043e+01 -1.9050e+03  9e+03  3e+00  4e-13\n",
            " 1: -3.1221e+00 -1.2034e+03  1e+03  6e-14  6e-13\n",
            " 2: -3.4342e+01 -1.7959e+02  1e+02  2e-13  6e-13\n",
            " 3: -7.2076e+01 -1.2462e+02  5e+01  7e-14  5e-13\n",
            " 4: -8.7302e+01 -1.0496e+02  2e+01  1e-15  4e-13\n",
            " 5: -9.1937e+01 -9.9696e+01  8e+00  1e-13  4e-13\n",
            " 6: -9.4310e+01 -9.6981e+01  3e+00  9e-14  5e-13\n",
            " 7: -9.5065e+01 -9.6131e+01  1e+00  3e-14  4e-13\n",
            " 8: -9.5416e+01 -9.5736e+01  3e-01  7e-14  5e-13\n",
            " 9: -9.5503e+01 -9.5640e+01  1e-01  2e-14  4e-13\n",
            "10: -9.5536e+01 -9.5604e+01  7e-02  1e-13  4e-13\n",
            "11: -9.5560e+01 -9.5578e+01  2e-02  1e-13  5e-13\n",
            "12: -9.5567e+01 -9.5570e+01  2e-03  7e-14  5e-13\n",
            "13: -9.5568e+01 -9.5568e+01  4e-05  7e-14  6e-13\n",
            "Optimal solution found.\n"
          ],
          "name": "stdout"
        },
        {
          "output_type": "display_data",
          "data": {
            "image/png": "[encoded data removed]",
            "text/plain": [
              "<Figure size 432x288 with 1 Axes>"
            ]
          },
          "metadata": {
            "tags": [],
            "needs_background": "light"
          }
        },
        {
          "output_type": "stream",
          "text": [
            "     pcost       dcost       gap    pres   dres\n",
            " 0: -2.5919e+01 -1.5905e+03  6e+03  2e+00  2e-13\n",
            " 1:  5.8300e+00 -9.0571e+02  9e+02  1e-15  3e-13\n",
            " 2: -2.5789e+01 -1.3851e+02  1e+02  8e-14  3e-13\n",
            " 3: -6.4085e+01 -9.8065e+01  3e+01  5e-14  3e-13\n",
            " 4: -7.5292e+01 -8.8688e+01  1e+01  1e-13  3e-13\n",
            " 5: -8.0353e+01 -8.4085e+01  4e+00  4e-14  2e-13\n",
            " 6: -8.1604e+01 -8.3012e+01  1e+00  6e-14  2e-13\n",
            " 7: -8.2051e+01 -8.2591e+01  5e-01  8e-14  2e-13\n",
            " 8: -8.2256e+01 -8.2396e+01  1e-01  2e-14  2e-13\n",
            " 9: -8.2302e+01 -8.2349e+01  5e-02  4e-14  2e-13\n",
            "10: -8.2315e+01 -8.2337e+01  2e-02  1e-14  2e-13\n",
            "11: -8.2321e+01 -8.2331e+01  1e-02  1e-13  2e-13\n",
            "12: -8.2326e+01 -8.2326e+01  4e-04  1e-13  2e-13\n",
            "13: -8.2326e+01 -8.2326e+01  4e-06  6e-14  3e-13\n",
            "Optimal solution found.\n"
          ],
          "name": "stdout"
        },
        {
          "output_type": "display_data",
          "data": {
            "image/png": "[encoded data removed]",
            "text/plain": [
              "<Figure size 432x288 with 1 Axes>"
            ]
          },
          "metadata": {
            "tags": [],
            "needs_background": "light"
          }
        },
        {
          "output_type": "stream",
          "text": [
            "     pcost       dcost       gap    pres   dres\n",
            " 0: -7.4137e+01 -1.9365e+03  1e+04  3e+00  2e-13\n",
            " 1: -5.7646e+00 -1.2341e+03  1e+03  8e-14  2e-13\n",
            " 2: -3.6153e+01 -2.2036e+02  2e+02  1e-13  2e-13\n",
            " 3: -7.8925e+01 -1.2368e+02  4e+01  3e-13  2e-13\n",
            " 4: -9.4635e+01 -1.0554e+02  1e+01  4e-14  2e-13\n",
            " 5: -9.7511e+01 -1.0244e+02  5e+00  1e-13  2e-13\n",
            " 6: -9.9142e+01 -1.0065e+02  2e+00  3e-14  2e-13\n",
            " 7: -9.9676e+01 -1.0008e+02  4e-01  2e-14  2e-13\n",
            " 8: -9.9807e+01 -9.9934e+01  1e-01  2e-14  2e-13\n",
            " 9: -9.9856e+01 -9.9882e+01  3e-02  3e-14  2e-13\n",
            "10: -9.9868e+01 -9.9869e+01  9e-04  4e-14  2e-13\n",
            "11: -9.9869e+01 -9.9869e+01  1e-05  2e-13  2e-13\n",
            "Optimal solution found.\n"
          ],
          "name": "stdout"
        },
        {
          "output_type": "display_data",
          "data": {
            "image/png": "[encoded data removed]",
            "text/plain": [
              "<Figure size 432x288 with 1 Axes>"
            ]
          },
          "metadata": {
            "tags": [],
            "needs_background": "light"
          }
        },
        {
          "output_type": "stream",
          "text": [
            "0.33464579604668093\n"
          ],
          "name": "stdout"
        }
      ]
    },
    {
      "cell_type": "code",
      "metadata": {
        "id": "bXJRgzgVxcGy"
      },
      "source": [
        ""
      ],
      "execution_count": 42,
      "outputs": []
    }
  ]
}